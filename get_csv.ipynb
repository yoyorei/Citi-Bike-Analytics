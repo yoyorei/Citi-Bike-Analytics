{
 "cells": [
  {
   "cell_type": "code",
   "execution_count": 1,
   "metadata": {},
   "outputs": [],
   "source": [
    "from selenium import webdriver\n",
    "import wget"
   ]
  },
  {
   "cell_type": "code",
   "execution_count": 2,
   "metadata": {},
   "outputs": [],
   "source": [
    "driver = webdriver.Chrome()\n",
    "driver.get('https://s3.amazonaws.com/tripdata/index.html')"
   ]
  },
  {
   "cell_type": "code",
   "execution_count": 3,
   "metadata": {},
   "outputs": [
    {
     "name": "stdout",
     "output_type": "stream",
     "text": [
      "https://s3.amazonaws.com/tripdata/201701-citibike-tripdata.csv.zip\n",
      "https://s3.amazonaws.com/tripdata/201702-citibike-tripdata.csv.zip\n",
      "https://s3.amazonaws.com/tripdata/201703-citibike-tripdata.csv.zip\n",
      "https://s3.amazonaws.com/tripdata/201704-citibike-tripdata.csv.zip\n",
      "https://s3.amazonaws.com/tripdata/201705-citibike-tripdata.csv.zip\n",
      "https://s3.amazonaws.com/tripdata/201706-citibike-tripdata.csv.zip\n",
      "https://s3.amazonaws.com/tripdata/201707-citibike-tripdata.csv.zip\n",
      "https://s3.amazonaws.com/tripdata/201708-citibike-tripdata.csv.zip\n",
      "https://s3.amazonaws.com/tripdata/201709-citibike-tripdata.csv.zip\n",
      "https://s3.amazonaws.com/tripdata/201710-citibike-tripdata.csv.zip\n",
      "https://s3.amazonaws.com/tripdata/201711-citibike-tripdata.csv.zip\n",
      "https://s3.amazonaws.com/tripdata/201712-citibike-tripdata.csv.zip\n",
      "https://s3.amazonaws.com/tripdata/201801-citibike-tripdata.csv.zip\n",
      "https://s3.amazonaws.com/tripdata/201802-citibike-tripdata.csv.zip\n",
      "https://s3.amazonaws.com/tripdata/201803-citibike-tripdata.csv.zip\n",
      "https://s3.amazonaws.com/tripdata/201804-citibike-tripdata.csv.zip\n",
      "https://s3.amazonaws.com/tripdata/201805-citibike-tripdata.csv.zip\n",
      "https://s3.amazonaws.com/tripdata/201806-citibike-tripdata.csv.zip\n",
      "https://s3.amazonaws.com/tripdata/201807-citibike-tripdata.csv.zip\n",
      "https://s3.amazonaws.com/tripdata/201808-citibike-tripdata.csv.zip\n",
      "https://s3.amazonaws.com/tripdata/201809-citibike-tripdata.csv.zip\n",
      "https://s3.amazonaws.com/tripdata/201810-citibike-tripdata.csv.zip\n",
      "https://s3.amazonaws.com/tripdata/201811-citibike-tripdata.csv.zip\n",
      "https://s3.amazonaws.com/tripdata/201812-citibike-tripdata.csv.zip\n",
      "https://s3.amazonaws.com/tripdata/JC-201701-citibike-tripdata.csv.zip\n",
      "https://s3.amazonaws.com/tripdata/JC-201702-citibike-tripdata.csv.zip\n",
      "https://s3.amazonaws.com/tripdata/JC-201703-citibike-tripdata.csv.zip\n",
      "https://s3.amazonaws.com/tripdata/JC-201704-citibike-tripdata.csv.zip\n",
      "https://s3.amazonaws.com/tripdata/JC-201705-citibike-tripdata.csv.zip\n",
      "https://s3.amazonaws.com/tripdata/JC-201706-citibike-tripdata.csv.zip\n",
      "https://s3.amazonaws.com/tripdata/JC-201707-citibike-tripdata.csv.zip\n",
      "https://s3.amazonaws.com/tripdata/JC-201708%20citibike-tripdata.csv.zip\n",
      "https://s3.amazonaws.com/tripdata/JC-201709-citibike-tripdata.csv.zip\n",
      "https://s3.amazonaws.com/tripdata/JC-201710-citibike-tripdata.csv.zip\n",
      "https://s3.amazonaws.com/tripdata/JC-201711-citibike-tripdata.csv.zip\n",
      "https://s3.amazonaws.com/tripdata/JC-201712-citibike-tripdata.csv.zip\n",
      "https://s3.amazonaws.com/tripdata/JC-201801-citibike-tripdata.csv.zip\n",
      "https://s3.amazonaws.com/tripdata/JC-201802-citibike-tripdata.csv.zip\n",
      "https://s3.amazonaws.com/tripdata/JC-201803-citibike-tripdata.csv.zip\n",
      "https://s3.amazonaws.com/tripdata/JC-201804-citibike-tripdata.csv.zip\n",
      "https://s3.amazonaws.com/tripdata/JC-201805-citibike-tripdata.csv.zip\n",
      "https://s3.amazonaws.com/tripdata/JC-201806-citibike-tripdata.csv.zip\n",
      "https://s3.amazonaws.com/tripdata/JC-201807-citibike-tripdata.csv.zip\n",
      "https://s3.amazonaws.com/tripdata/JC-201808-citibike-tripdata.csv.zip\n",
      "https://s3.amazonaws.com/tripdata/JC-201809-citibike-tripdata.csv.zip\n",
      "https://s3.amazonaws.com/tripdata/JC-201810-citibike-tripdata.csv.zip\n",
      "https://s3.amazonaws.com/tripdata/JC-201811-citibike-tripdata.csv.zip\n",
      "https://s3.amazonaws.com/tripdata/JC-201812-citibike-tripdata.csv.zip\n"
     ]
    }
   ],
   "source": [
    "files = []\n",
    "links = driver.find_elements_by_tag_name('a')\n",
    "for link in links:\n",
    "    if \"2017\" in link.get_attribute(\"href\") or \"2018\" in link.get_attribute(\"href\"):\n",
    "        print(link.get_attribute(\"href\"))\n",
    "        files.append(link.get_attribute(\"href\"))\n",
    "driver.close()"
   ]
  },
  {
   "cell_type": "code",
   "execution_count": null,
   "metadata": {},
   "outputs": [],
   "source": [
    "for file in files:\n",
    "    try:\n",
    "        wget.download(file)\n",
    "    except:\n",
    "        continue"
   ]
  },
  {
   "cell_type": "code",
   "execution_count": null,
   "metadata": {},
   "outputs": [],
   "source": []
  }
 ],
 "metadata": {
  "kernelspec": {
   "display_name": "Python 3",
   "language": "python",
   "name": "python3"
  },
  "language_info": {
   "codemirror_mode": {
    "name": "ipython",
    "version": 3
   },
   "file_extension": ".py",
   "mimetype": "text/x-python",
   "name": "python",
   "nbconvert_exporter": "python",
   "pygments_lexer": "ipython3",
   "version": "3.7.0"
  }
 },
 "nbformat": 4,
 "nbformat_minor": 2
}
